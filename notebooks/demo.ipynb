{
 "cells": [
  {
   "cell_type": "code",
   "execution_count": 1,
   "id": "52cf1eef-8a60-44a6-9bd3-a7c35bfd803a",
   "metadata": {},
   "outputs": [
    {
     "name": "stdout",
     "output_type": "stream",
     "text": [
      "Sample poems: ('If we meet each other in Hell it’s not Hell.\\n—\\u2009Geoffrey Hill\\ni\\n\\n\\nHow is it I can never find\\nOr call to mind\\nOne image of Christ walking slowly in the rain,\\nIn a steady, gentle rain,\\nThe kind that shapes an afterimage\\nJust for a moment of the man\\nLike a cloak of shadow following\\nOr like a blank page\\nAfter it’s been turned?\\nThe dead are concealed from us\\nBut not distorted by the rain.\\nThey remember our having remembered.\\nA woman curls up on the sofa.\\nYears before the fact she sleeps\\nHer death and drapes it\\nEven now, exactly as she must.\\n\\nJust after dawn,\\nIn the wren’s eye\\nThere are no blossoms left in the trees,\\nAnd yet the sunlight blazons white\\nNew flowers onto every leaf.\\nThe wren’s eye gorges itself,\\nBursting the new life.\\nThe memory of a tree is the tree.\\nChrist could fly.\\nImpale upon him certain words\\nGood as Greek\\nFor the impulse of the earth is to seek\\nA language of flowers\\nThat do not die, turning\\nA hair’s breadth toward us\\nEven now, exactly as they must.\\n\\nIf it was justice I saw\\nFall from the sun\\nOnto boys ruining the one\\nFlower shared between them,\\nSo be it.\\nThe woman on the sofa wears a little wing\\nIn her sleep. When she awakes,\\nIts twin will be the wren in the dream\\nNearly there, nearly all the way\\nThere into the human day.\\nRain falls out of brilliant sunshine.\\nFor a moment, her window\\nFills with catastrophe, boys\\nTorn apart and scattered, white petals\\nBlackening the glass,\\nExacting recent justice.\\n\\nSo strange that the recent past,\\nAs chaste\\nAs antiquity, as the orangery\\nOf a blind eye, should at once appear\\nPreposterous\\nYet achingly tender.\\nModern times are too cautious.\\nThe boyish, florid love of catastrophe\\nHas thrust a fist into the dawn,\\nAnd the scent of that fist,\\nWhose citron betters daylight,\\nIs wasted on modern times.\\nNot long ago, you and I\\nNearly captured a wren.\\nChrist lifted His face then,\\nAnd rain fell all day until evening.\\n\\n\\nii\\n\\n\\nIn a corner of my garden, there is a spider’s web\\nEntirely armored in rose petals broken off by rain.\\nThe spider will learn to eat roses, or he will starve to death.\\nThis is political economy for modern times.\\nThe planet dies. The planet starves its cruel interiors\\nFirst, with a blazon of colors and soft poetry. Next,\\nIt apportions one small bird to every tree and sets fire\\nTo the trees. The rest is the cold business of the oceans\\nWho have never forgiven us for breathing air.\\nHomer was tempted. Loose thighs of oblivion\\nWelcomed humanity away from itself and from life,\\nAnd only one of the Bronze-Age host refused that welcome.\\nHe was the father of starvation, entirely armored\\nIn the disguise of a real man, destroyer of oceans.\\n\\nWe have made ugly war upon distinctions.\\nCanon bleeds a wedding into the gigue, and “when\\nI try to imagine a faultless love or” the seedtime\\nOf my deepest convictions\\u2009—\\u2009that the soul is immortal,\\nThat a woman couched upon a fragile little wing\\nCreated the creator of the universe\\u2009—\\u2009thought,\\nOr rather the entire machinery of truth and terror\\nUsurps a newborn king, i.e. imagination.\\nPhaedrus, step down. There is a little wing wearing sunshine\\nLike wind in the white hair of the bee you never imagined.\\nAn infinitesimal distance goes on forever.\\nAt the moment of death, the light hand of Attic stele\\nSoftly lights upon the shoulder of eternity,\\nAnd thought yields to flesh and flesh yields to imagination,\\n\\nSexing this or that unimaginable creation\\nWith new hair. It makes a difference. We are bound to one another\\nAnd to God by harrowing, albeit helpless distinctions,\\nImpossible to bridge, imperative to love well.\\nWe are free, but briefly. The pattern of a leaf branches\\nOut from human hearts, and the blood spills\\nInto the pattern a stone makes crashing into windshields.\\nGod follows. The wrist and wing of the beloved follow\\nClose behind, and not even Hell prevails against\\nThis new extinction. Slow time is the beginning\\nOf no time at all. The light hand of Attic stele\\nWrests me from the sleep I’d imagined life to be\\u2009—\\nThe walking stone, the irreparable Gethsemane\\u2009—\\nAnd I am awake, wearing a green flesh newly fashioned\\n\\nFrom my heart.\\n\\n\\ncoda\\n\\n\\nShould the bird outlast the blossom in the tree?\\nKeep faith, but keep it silently,\\nStarveling.\\n\\nI keenly remember there were two of us,\\nAnd a stand of poplars like a kiss\\nQuavering\\n\\nUpon the shade of the earth where no earth was\\nReady to bear the weight of us\\nRelinquishing\\n\\nSoul for substance, pistil of white campion\\nFor color, continuance and one\\nUnbelieving\\n\\nSubstance of perfect memory.\\nThere were no trees.\\nThe sun was shining.', 'That whine is the sound\\nof waste, rot, the frantic,\\ngrinding inability to attend\\nto anything but sere thwarting\\nof yourself, a dry corrosion\\nwhich some say they know,\\nbut you and I—\\n\\n(my jaw clenched as you\\nturn a page,\\nyou with a heart like drywall,\\nI who would\\nlace my arms with razors,\\nthen press them\\nslowly to your lips,\\nthe metal taste\\nmixing with flesh,\\nand through gritted teeth\\nI making the sound\\nof you, you, you\\ndo not know, meaning\\nonly me, me)\\n\\nwe know best.', 'How Love came in, I do not know,\\nWhether by th’ eye, or eare, or no:\\nOr whether with the soule it came\\n(At first) infused with the same:\\nWhether in part ‘tis here or there,\\nOr, like the soule, whole every where:\\nThis troubles me: but as I well\\nAs any other, this can tell;\\nThat when from hence she does depart,\\nThe out-let then is from the heart.')\n",
      "Corresponding authors: tensor([166, 165, 323])\n"
     ]
    }
   ],
   "source": [
    "import torch\n",
    "from torch.utils.data import DataLoader\n",
    "from torchvision import datasets, transforms\n",
    "from dataset.dataloader import get_data_loaders\n",
    "import numpy as np\n",
    "\n",
    "train_loader, val_loader, test_loader = get_data_loaders(\"dataset/kaggle_poem_dataset.csv\")\n",
    "\n",
    "sample_batch = next(iter(train_loader))\n",
    "poems, authors = sample_batch\n",
    "\n",
    "print(\"Sample poems:\", poems[:3])\n",
    "print(\"Corresponding authors:\", authors[:3])"
   ]
  },
  {
   "cell_type": "code",
   "execution_count": null,
   "id": "85759663-2ff5-41a7-88bc-3d2ae4223078",
   "metadata": {},
   "outputs": [],
   "source": []
  }
 ],
 "metadata": {
  "kernelspec": {
   "display_name": "Python 3 (ipykernel)",
   "language": "python",
   "name": "python3"
  },
  "language_info": {
   "codemirror_mode": {
    "name": "ipython",
    "version": 3
   },
   "file_extension": ".py",
   "mimetype": "text/x-python",
   "name": "python",
   "nbconvert_exporter": "python",
   "pygments_lexer": "ipython3",
   "version": "3.8.16"
  }
 },
 "nbformat": 4,
 "nbformat_minor": 5
}
