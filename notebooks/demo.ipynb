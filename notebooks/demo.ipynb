{
 "cells": [
  {
   "cell_type": "code",
   "execution_count": 2,
   "id": "52cf1eef-8a60-44a6-9bd3-a7c35bfd803a",
   "metadata": {},
   "outputs": [
    {
     "name": "stdout",
     "output_type": "stream",
     "text": [
      "Sample poems: tensor([[ 101, 2009, 2003,  ...,    0,    0,    0],\n",
      "        [ 101, 1996, 4586,  ...,    0,    0,    0],\n",
      "        [ 101, 2043, 2643,  ...,    0,    0,    0]])\n",
      "Corresponding authors: tensor([486, 215,  23])\n"
     ]
    }
   ],
   "source": [
    "import torch\n",
    "from torch.utils.data import DataLoader\n",
    "from torchvision import datasets, transforms\n",
    "from dataset.dataloader import get_data_loaders\n",
    "import numpy as np\n",
    "\n",
    "train_loader, val_loader, test_loader = get_data_loaders(\"dataset/kaggle_poem_dataset.csv\")\n",
    "\n",
    "sample_batch = next(iter(train_loader))\n",
    "poems, attention_mask, authors = sample_batch\n",
    "\n",
    "print(\"Sample poems:\", poems[:3])\n",
    "print(\"Corresponding authors:\", authors[:3])"
   ]
  },
  {
   "cell_type": "code",
   "execution_count": 5,
   "id": "85759663-2ff5-41a7-88bc-3d2ae4223078",
   "metadata": {},
   "outputs": [
    {
     "data": {
      "text/plain": [
       "11460"
      ]
     },
     "execution_count": 5,
     "metadata": {},
     "output_type": "execute_result"
    }
   ],
   "source": [
    "len(train_loader.dataset) + len(val_loader.dataset) + len(test_loader.dataset)"
   ]
  },
  {
   "cell_type": "code",
   "execution_count": null,
   "id": "06735420-22fd-4160-939a-b6f045fac9f1",
   "metadata": {},
   "outputs": [],
   "source": []
  }
 ],
 "metadata": {
  "kernelspec": {
   "display_name": "Python 3 (ipykernel)",
   "language": "python",
   "name": "python3"
  },
  "language_info": {
   "codemirror_mode": {
    "name": "ipython",
    "version": 3
   },
   "file_extension": ".py",
   "mimetype": "text/x-python",
   "name": "python",
   "nbconvert_exporter": "python",
   "pygments_lexer": "ipython3",
   "version": "3.8.16"
  }
 },
 "nbformat": 4,
 "nbformat_minor": 5
}
